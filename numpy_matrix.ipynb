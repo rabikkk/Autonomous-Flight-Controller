{
  "nbformat": 4,
  "nbformat_minor": 0,
  "metadata": {
    "colab": {
      "name": "Untitled2.ipynb",
      "provenance": [],
      "collapsed_sections": [],
      "authorship_tag": "ABX9TyMCG1zVA3jLnBcjE9f7A5g2",
      "include_colab_link": true
    },
    "kernelspec": {
      "name": "python3",
      "display_name": "Python 3"
    }
  },
  "cells": [
    {
      "cell_type": "markdown",
      "metadata": {
        "id": "view-in-github",
        "colab_type": "text"
      },
      "source": [
        "<a href=\"https://colab.research.google.com/github/rabikkk/Autonomous-Flight-Controller/blob/master/numpy_matrix.ipynb\" target=\"_parent\"><img src=\"https://colab.research.google.com/assets/colab-badge.svg\" alt=\"Open In Colab\"/></a>"
      ]
    },
    {
      "cell_type": "code",
      "metadata": {
        "id": "_YNWnqv--sJT",
        "colab_type": "code",
        "colab": {
          "base_uri": "https://localhost:8080/",
          "height": 102
        },
        "outputId": "0dd814c0-a168-4f00-c953-f77d3b8f9660"
      },
      "source": [
        "import numpy as np\n",
        "my_matrix = np.matrix(np.random.rand(5, 3), dtype=np.float32) \n",
        "for i in my_matrix:\n",
        "  print(i)"
      ],
      "execution_count": null,
      "outputs": [
        {
          "output_type": "stream",
          "text": [
            "[[0.13002858 0.01936696 0.6788355 ]]\n",
            "[[0.21162811 0.26554665 0.49157315]]\n",
            "[[0.05336254 0.5741176  0.14672858]]\n",
            "[[0.5893055  0.69975835 0.10233443]]\n",
            "[[0.41405597 0.69440013 0.41417927]]\n"
          ],
          "name": "stdout"
        }
      ]
    },
    {
      "cell_type": "code",
      "metadata": {
        "id": "BTqnfPL8_VvX",
        "colab_type": "code",
        "colab": {}
      },
      "source": [
        "import numpy as np\n",
        "import random \n",
        "my_matrix= np.zeros(shape=(5,3))\n",
        "for i in range(5):\n",
        "  for k in range(3):\n",
        "          X = np.append(X, [[i, j]], axis=0)\n",
        "    .np.ndarray(random.randrange(-1, 2))"
      ],
      "execution_count": null,
      "outputs": []
    },
    {
      "cell_type": "code",
      "metadata": {
        "id": "TucII7PPauLq",
        "colab_type": "code",
        "colab": {
          "base_uri": "https://localhost:8080/",
          "height": 102
        },
        "outputId": "20df4fa2-adc3-4f55-fe6e-9dd05d771fa1"
      },
      "source": [
        "import numpy \n",
        "import random \n",
        "my_matrix= numpy.empty([5, 3], dtype=float)\n",
        "for i in range(5):\n",
        "  for k in range(3):\n",
        "         my_matrix= numpy.append (my_matrix, [random.uniform(-5, 5)],axis=None)\n",
        "for i in my_matrix:\n",
        "  print(i)"
      ],
      "execution_count": 14,
      "outputs": [
        {
          "output_type": "stream",
          "text": [
            "[0. 0. 0.]\n",
            "[0. 0. 0.]\n",
            "[0. 0. 0.]\n",
            "[0. 0. 0.]\n",
            "[0. 0. 0.]\n"
          ],
          "name": "stdout"
        }
      ]
    },
    {
      "cell_type": "code",
      "metadata": {
        "id": "zpdI1rPWbJxM",
        "colab_type": "code",
        "colab": {
          "base_uri": "https://localhost:8080/",
          "height": 102
        },
        "outputId": "15c08a5e-8580-407f-d70b-4da01597138b"
      },
      "source": [
        "import numpy \n",
        "my_matrix=numpy.random.uniform(-5, 5, size=(5, 3))\n",
        "for i in my_matrix:\n",
        "  print(i)"
      ],
      "execution_count": 22,
      "outputs": [
        {
          "output_type": "stream",
          "text": [
            "[-1.21232561  2.18509724 -3.70767352]\n",
            "[ 2.08126616  4.940549   -1.15684118]\n",
            "[-2.44924264  2.8074404  -4.19907809]\n",
            "[ 1.30589439  4.2197777  -4.89840765]\n",
            "[-2.14123859 -1.35758125 -0.92336471]\n"
          ],
          "name": "stdout"
        }
      ]
    }
  ]
}